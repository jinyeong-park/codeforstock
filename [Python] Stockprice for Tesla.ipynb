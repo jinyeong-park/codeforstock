{
 "cells": [
  {
   "cell_type": "code",
   "execution_count": null,
   "metadata": {},
   "outputs": [],
   "source": [
    "#Application in Finance and Trading\n",
    "#using quandl data(https://www.quandl.com)\n",
    "\n",
    "import quandl\n",
    "#pandas for data manipulation\n",
    "import pandas as pd\n",
    "quandl.ApiConfig.api_key = 'your API KEY'\n",
    "#retrieve TSLA data from Quandl\n",
    "tesla = quandl.get('WIKI/TSLA')\n",
    "print(tesla.head(5))\n",
    "#matplotlib : plotting, data visualization (graph etc)\n",
    "import matplotlib.pyplot as plt\n",
    "\n",
    "plt.show()\n",
    "plt.plot(tesla.index, tesla['Adj. Close'], 'g')\n",
    "plt.plot(tesla.index, tesla['Adj. High'], 'y')\n",
    "plt.title('Tesla Stock Close Price')\n",
    "plt.ylabel('Price ($)');\n",
    "plt.show();"
   ]
  }
 ],
 "metadata": {
  "kernelspec": {
   "display_name": "Python 3",
   "language": "python",
   "name": "python3"
  },
  "language_info": {
   "codemirror_mode": {
    "name": "ipython",
    "version": 3
   },
   "file_extension": ".py",
   "mimetype": "text/x-python",
   "name": "python",
   "nbconvert_exporter": "python",
   "pygments_lexer": "ipython3",
   "version": "3.6.5"
  }
 },
 "nbformat": 4,
 "nbformat_minor": 2
}
